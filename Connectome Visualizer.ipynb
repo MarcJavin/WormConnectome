{
 "cells": [
  {
   "cell_type": "markdown",
   "metadata": {},
   "source": [
    "# Connectome visualizer"
   ]
  },
  {
   "cell_type": "markdown",
   "metadata": {},
   "source": [
    "### Some precomputations"
   ]
  },
  {
   "cell_type": "code",
   "execution_count": 17,
   "metadata": {},
   "outputs": [],
   "source": [
    "import pandas as pd\n",
    "import numpy as np\n",
    "import networkx as nx\n",
    "import matplotlib.pyplot as plt\n",
    "from matplotlib.patches import ArrowStyle\n",
    "from ipywidgets import interact, IntSlider\n",
    "\n",
    "def init():\n",
    "    dfs = pd.read_csv('data/Neuro279_Syn.csv', index_col=0)\n",
    "    dfg = pd.read_csv('data/Neuro279_EJ.csv', index_col=0)\n",
    "    return dfs, dfg\n",
    "    \n",
    "dfs, dfg = init()\n",
    "# dfg = dfg.sort_index(0)\n",
    "# dfs = dfs.sort_index(1)\n",
    "# dfg = dfg.sort_index(0)\n",
    "# dfs = dfs.sort_index(1)\n",
    "dfcat = pd.read_csv('data/neuron_categories.csv', index_col=1, header=0)\n",
    "nbs = [i for i in range(len(dfs.index))]\n",
    "cats = dfcat.loc[dfg.index]\n",
    "motors = cats.index[cats['Category']=='MOTOR']\n",
    "inters = cats.index[cats['Category']=='INTERNEURON']\n",
    "sensors = cats.index[cats['Category']=='SENSORY']"
   ]
  },
  {
   "cell_type": "markdown",
   "metadata": {},
   "source": [
    "### Visualization"
   ]
  },
  {
   "cell_type": "code",
   "execution_count": 18,
   "metadata": {},
   "outputs": [],
   "source": [
    "\"\"\" Preferences : you can change the shape and colors of neuron categories here \"\"\"\n",
    "SENSOR_COLOR = '#006000'\n",
    "SENSOR_SHAPE = 'o'\n",
    "INTER_COLOR = '#000060'\n",
    "INTER_SHAPE = 'o'\n",
    "MOTOR_COLOR = '#600000'\n",
    "MOTOR_SHAPE = 'o'\n",
    "NODE_SIZE = 2500\n",
    "\n",
    "style = ArrowStyle(\"wedge\", tail_width=2., shrink_factor=0.2)\n",
    "styleg = ArrowStyle(\"wedge\", tail_width=0.6, shrink_factor=0.4)"
   ]
  },
  {
   "cell_type": "code",
   "execution_count": 19,
   "metadata": {},
   "outputs": [
    {
     "data": {
      "application/vnd.jupyter.widget-view+json": {
       "model_id": "415d356486b3489f99af578833d15a17",
       "version_major": 2,
       "version_minor": 0
      },
      "text/plain": [
       "interactive(children=(Dropdown(description='neuron', options=('ADAL', 'ADAR', 'ADEL', 'ADER', 'ADFL', 'ADFR', …"
      ]
     },
     "metadata": {},
     "output_type": "display_data"
    }
   ],
   "source": [
    "@interact(neuron = sorted(dfs.index), img_size=IntSlider(min=10,max=22,step=2,value=12))\n",
    "def connections(neuron='BAG', img_size=12):\n",
    "    fig = plt.figure(figsize=(img_size,img_size))\n",
    "    G = nx.DiGraph()\n",
    "    \n",
    "    syn_in = dfs.index[dfs[neuron] > 0].tolist()\n",
    "    intens_in = dfs.loc[dfs[neuron] > 0, neuron]\n",
    "    syni = [(pre, neuron, {}) for pre in syn_in]\n",
    "    G.add_edges_from(syni)\n",
    "    \n",
    "    gaps_ = dfg.index[dfg[neuron] > 0].tolist()\n",
    "    intens_g = 0.1*dfg.loc[dfg[neuron] > 0, neuron]\n",
    "    gaps = [(neuron, k, {}) for k in gaps_] + [(k, neuron, {}) for k in gaps_]\n",
    "    G.add_edges_from(gaps)\n",
    "    \n",
    "    syn_out = dfs.T.index[dfs.T[neuron] > 0].tolist()\n",
    "    intens_out = dfs.T.loc[dfs.T[neuron] > 0, neuron]\n",
    "    syno = [(neuron, post, {}) for post in syn_out]\n",
    "    G.add_edges_from(syno)\n",
    "    \n",
    "    G.remove_node(neuron)\n",
    "    pos = nx.layout.circular_layout(G, scale=2)\n",
    "    G.add_node(neuron)\n",
    "    pos[neuron] = np.array([0,0])\n",
    "    \n",
    "    def draw_nodes(shape='o', category=inters, col='k'):\n",
    "        nx.draw_networkx_nodes(G, pos, node_shape=shape, node_color=col, \n",
    "                               nodelist=[n for n in G.nodes if n in category],\n",
    "                               node_size=NODE_SIZE, alpha=0.9)\n",
    "    draw_nodes(SENSOR_SHAPE, sensors, SENSOR_COLOR)\n",
    "    draw_nodes(INTER_SHAPE, inters, INTER_COLOR)\n",
    "    draw_nodes(MOTOR_SHAPE, motors, MOTOR_COLOR)\n",
    "\n",
    "    nx.draw_networkx_labels(G, pos, font_color='w', font_weight='bold')\n",
    "    \n",
    "    nx.draw_networkx_edges(G, pos, arrowstyle=style, edgelist=syni, edge_color='g',\n",
    "                           arrowsize=10, alpha=0.7, width=intens_in, node_size=NODE_SIZE)\n",
    "    nx.draw_networkx_edges(G, pos, arrowstyle=styleg, edgelist=gaps, edge_color='Gold',\n",
    "                           arrowsize=10, alpha=0.8, width=np.hstack((intens_g,intens_g)), \n",
    "                           node_size=NODE_SIZE)\n",
    "    nx.draw_networkx_edges(G, pos, arrowstyle=style, edgelist=syno, edge_color='r',\n",
    "                           arrowsize=10, alpha=0.5, width=intens_out, node_size=NODE_SIZE)\n",
    "    plt.axis('off')\n",
    "    plt.show()"
   ]
  },
  {
   "cell_type": "markdown",
   "metadata": {},
   "source": [
    "## Plot the whole network"
   ]
  },
  {
   "cell_type": "code",
   "execution_count": 20,
   "metadata": {},
   "outputs": [],
   "source": [
    "A = 'SMDDL'\n",
    "B = 'SMDVL'\n",
    "\n",
    "def select_adj(dfs, dfg):\n",
    "    adjs = [A, B]\n",
    "    adjs.extend(dfs.index[dfs[A] > 0])\n",
    "#     adjs.extend(dfs.index[dfs.loc[A] > 0])\n",
    "    adjs.extend(dfg.index[dfs[A] > 0])\n",
    "#     adjs.extend(dfg.index[dfs.loc[A] > 0])\n",
    "    adjs.extend(dfs.index[dfs[B] > 0])\n",
    "#     adjs.extend(dfs.index[dfs.loc[B] > 0])\n",
    "    adjs.extend(dfg.index[dfs[B] > 0])\n",
    "#     adjs.extend(dfg.index[dfs.loc[B] > 0])\n",
    "    adjs = list(set(adjs))\n",
    "\n",
    "    dfg2 = dfg.loc[adjs, adjs]\n",
    "    dfs2 = dfs.loc[adjs, adjs]\n",
    "    return dfs2, dfg2"
   ]
  },
  {
   "cell_type": "code",
   "execution_count": 50,
   "metadata": {},
   "outputs": [],
   "source": [
    "dfs, dfg = init()\n",
    "\n",
    "# dfs, dfg = select_adj(dfs, dfg)\n",
    "# select = ['AIBL', 'AIBR', 'ALA', 'ALNL', 'ALNR']\n",
    "# dfg = dfg.loc[select, select]\n",
    "# dfs = dfs.loc[select, select]\n",
    "\n",
    "labels = {i:dfg.index[i] for i in range(dfg.shape[0])}\n",
    "G1 = nx.from_numpy_matrix(dfs.values)#, create_using=nx.DiGraph())\n",
    "G1 = nx.relabel.relabel_nodes(G1, labels)\n",
    "G2 = nx.from_numpy_matrix(dfg.values)#, create_using=nx.DiGraph())\n",
    "G2 = nx.relabel.relabel_nodes(G2, labels)\n",
    "\n",
    "G = nx.Graph()\n",
    "G.add_edges_from(G1.edges)\n",
    "G.add_edges_from(G2.edges)\n",
    "\n",
    "rich = ['AVAL', 'AVAR', 'AVBL', 'AVBR', 'AVDL', 'AVDR', 'AVEL', 'AVER', 'PVCL', 'PVCR', 'DVA']\n",
    "rich2 = ['RIBL']\n",
    "rich3 = ['AIBR', 'RIAR']"
   ]
  },
  {
   "cell_type": "code",
   "execution_count": 176,
   "metadata": {
    "scrolled": false
   },
   "outputs": [
    {
     "data": {
      "image/png": "[encoded data removed]",
      "text/plain": [
       "<Figure size 720x720 with 1 Axes>"
      ]
     },
     "metadata": {
      "needs_background": "light"
     },
     "output_type": "display_data"
    }
   ],
   "source": [
    "def draw_nodes(pos, G=G, shape='o', category=inters, col='k', size=NODE_SIZE):\n",
    "            nx.draw_networkx_nodes(G, pos, node_shape=shape, node_color=col, \n",
    "                                   nodelist=[n for n in G.nodes if n in category],\n",
    "                                   node_size=size, alpha=0.9)\n",
    "        \n",
    "def draw_rich(pos, G=G, neurs=rich, sk=7000, sr=6500, sg=5000):\n",
    "        draw_nodes(pos, G, 'o', neurs, 'white', size=sk)\n",
    "        draw_nodes(pos, G, 'o', neurs, 'r', size=sr)\n",
    "        draw_nodes(pos, G, 'o', neurs, 'Gold', size=sg)\n",
    "        draw_nodes(pos, G, INTER_SHAPE, neurs, INTER_COLOR)\n",
    "\n",
    "def whole(img_size=25, pos=None):\n",
    "    plt.figure(figsize=(1.5*img_size, img_size))    \n",
    "    \n",
    "#     ['AIBL', 'AIBR', 'RIAL', 'RIAR', 'RIBL', 'RIBR']\n",
    "    # pos = nx.layout.bipartite_layout(G, sensors)\n",
    "    if pos is None:\n",
    "        pos = nx.layout.spring_layout(G)\n",
    "            \n",
    "    draw_nodes(pos, 'o', G.nodes, 'white', size=2700)\n",
    "    draw_nodes(pos, SENSOR_SHAPE, sensors, SENSOR_COLOR)\n",
    "    draw_nodes(pos, MOTOR_SHAPE, motors, MOTOR_COLOR)\n",
    "    draw_nodes(pos, INTER_SHAPE, inters, INTER_COLOR)\n",
    "\n",
    "    nx.draw_networkx_edges(G, pos, edge_color='#303060', node_size=NODE_SIZE, arrowstyle='->', edgelist=G1.edges, \n",
    "                           alpha=0.8, width=1, arrowsize=10)\n",
    "    nx.draw_networkx_edges(G, pos, edge_color='#505020', node_size=NODE_SIZE, edgelist=G2.edges, \n",
    "                           alpha=0.8, width=1)\n",
    "\n",
    "    nx.draw_networkx_labels(G, pos, font_color='w', font_weight='bold')\n",
    "\n",
    "    plt.axis('off')\n",
    "    \n",
    "    plt.draw()\n",
    "#     plt.savefig('circ%s.png'%img_size, dpi=400)\n",
    "\n",
    "    draw_rich(pos, rich3, sk=4600, sr=4500, sg=4500)\n",
    "    draw_rich(pos, rich2, sk=5600, sr=5500, sg=4500)\n",
    "    draw_rich(pos, rich)\n",
    "    \n",
    "    plt.draw()\n",
    "#     plt.savefig('circ%s_rich.png'%img_size, dpi=400)\n",
    "    return pos\n",
    "    \n",
    "    \n",
    "# poss = []\n",
    "# for i in [25,34]:\n",
    "#     whole(i, poss[0])\n",
    "plt.figure(figsize=(10,10))\n",
    "g = nx.Graph()\n",
    "nodes = range(9)\n",
    "g.add_nodes_from(nodes)\n",
    "legends = ['Sensory neuron', 'Interneuron', ' Motor neuron', \n",
    "           'Premium rich club', 'Second zone rich club', 'Third zone rich club',\n",
    "           '','','']\n",
    "pos = {}\n",
    "for i in nodes:\n",
    "    pos[i] = [10*(i//3),-20*(i%3)]\n",
    "    plt.text(pos[i][0]+2, pos[i][1], legends[i], fontsize=20)\n",
    "draw_nodes(pos, g, SENSOR_SHAPE, [0], SENSOR_COLOR)\n",
    "draw_nodes(pos, g, INTER_SHAPE, [1], INTER_COLOR)\n",
    "draw_nodes(pos, g, MOTOR_SHAPE, [2], MOTOR_COLOR)\n",
    "draw_rich(pos, g, [3])\n",
    "draw_rich(pos, g, [4], sk=5600, sr=5500, sg=4500)\n",
    "draw_rich(pos, g, [5], sk=4600, sr=4500, sg=4500)\n",
    "nx.draw_networkx_edges(G, pos, edge_color='#303060', node_size=NODE_SIZE, arrowstyle='->', edgelist=[[6,7]], \n",
    "                           alpha=0.8, width=1, arrowsize=10)\n",
    "nx.draw_networkx_edges(G, pos, edge_color='#505020', node_size=NODE_SIZE, edgelist=[[7,8]], \n",
    "                           alpha=0.8, width=1)\n",
    "plt.ylim(-60, 15)\n",
    "plt.xlim(-5, 15)\n",
    "plt.axis('off')\n",
    "plt.draw()\n",
    "plt.show()\n"
   ]
  },
  {
   "cell_type": "code",
   "execution_count": 108,
   "metadata": {},
   "outputs": [],
   "source": [
    "import pickle\n",
    "\n",
    "with open('Manuel/pos', 'wb') as f:\n",
    "    pickle.dump(poss[0], f)"
   ]
  }
 ],
 "metadata": {
  "kernelspec": {
   "display_name": "Python 3",
   "language": "python",
   "name": "python3"
  },
  "language_info": {
   "codemirror_mode": {
    "name": "ipython",
    "version": 3
   },
   "file_extension": ".py",
   "mimetype": "text/x-python",
   "name": "python",
   "nbconvert_exporter": "python",
   "pygments_lexer": "ipython3",
   "version": "3.6.7"
  }
 },
 "nbformat": 4,
 "nbformat_minor": 2
}
