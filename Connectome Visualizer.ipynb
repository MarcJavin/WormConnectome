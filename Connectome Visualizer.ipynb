{
 "cells": [
  {
   "cell_type": "markdown",
   "metadata": {},
   "source": [
    "# Connectome visualizer"
   ]
  },
  {
   "cell_type": "markdown",
   "metadata": {},
   "source": [
    "### Some precomputations"
   ]
  },
  {
   "cell_type": "code",
   "execution_count": 1,
   "metadata": {},
   "outputs": [],
   "source": [
    "import pandas as pd\n",
    "import numpy as np\n",
    "import networkx as nx\n",
    "import matplotlib.pyplot as plt\n",
    "from matplotlib.patches import ArrowStyle\n",
    "from ipywidgets import interact, IntSlider\n",
    "\n",
    "dfs = pd.read_csv('data/Neuro279_Syn.csv', index_col=0)\n",
    "dfg = pd.read_csv('data/Neuro279_EJ.csv', index_col=0)\n",
    "dfcat = pd.read_csv('data/neuron_categories.csv', index_col=1, header=0)\n",
    "cats = dfcat.loc[dfg.index]\n",
    "motors = cats.index[cats['Category']=='MOTOR']\n",
    "inters = cats.index[cats['Category']=='INTERNEURON']\n",
    "sensors = cats.index[cats['Category']=='SENSORY']"
   ]
  },
  {
   "cell_type": "markdown",
   "metadata": {},
   "source": [
    "### Visualization"
   ]
  },
  {
   "cell_type": "code",
   "execution_count": 2,
   "metadata": {},
   "outputs": [
    {
     "data": {
      "application/vnd.jupyter.widget-view+json": {
       "model_id": "aca63a440b6846ec945a91488dd7ff1f",
       "version_major": 2,
       "version_minor": 0
      },
      "text/plain": [
       "interactive(children=(Dropdown(description='neuron', options=('ADAL', 'ADAR', 'ADEL', 'ADER', 'ADFL', 'ADFR', …"
      ]
     },
     "metadata": {},
     "output_type": "display_data"
    }
   ],
   "source": [
    "\"\"\" Preferences : you can change the shape and colors of neuron categories here \"\"\"\n",
    "SENSOR_COLOR = '#006000'\n",
    "SENSOR_SHAPE = 'o'\n",
    "INTER_COLOR = '#000060'\n",
    "INTER_SHAPE = 'o'\n",
    "MOTOR_COLOR = '#600000'\n",
    "MOTOR_SHAPE = 'o'\n",
    "\n",
    "\n",
    "@interact(neuron = sorted(dfs.index), img_size=IntSlider(min=10,max=18,step=2,value=12))\n",
    "def connections(neuron='BAG', img_size=12):\n",
    "    plt.figure(figsize=(img_size,img_size))\n",
    "    G = nx.MultiDiGraph()\n",
    "    \n",
    "    syn_in = dfs.index[dfs[neuron] > 0].tolist()\n",
    "    intens_in = dfs.loc[dfs[neuron] > 0, neuron]\n",
    "    syni = [(pre, neuron, {}) for pre in syn_in]\n",
    "    G.add_edges_from(syni)\n",
    "    \n",
    "    syn_out = dfs.T.index[dfs.T[neuron] > 0].tolist()\n",
    "    intens_out = dfs.T.loc[dfs.T[neuron] > 0, neuron]\n",
    "    syno = [(neuron, post, {}) for post in syn_out]\n",
    "    G.add_edges_from(syno)\n",
    "    \n",
    "    gaps_ = dfg.index[dfg[neuron] > 0].tolist()\n",
    "    intens_g = 0.1*dfg.loc[dfg[neuron] > 0, neuron]\n",
    "    gaps = [(neuron, k, {}) for k in gaps_] + [(k, neuron, {}) for k in gaps_]\n",
    "    G.add_edges_from(gaps)\n",
    "    \n",
    "    nodes = syn_in + syn_out + gaps_ + [neuron]\n",
    "    \n",
    "    pos = nx.layout.circular_layout(G, scale=2)\n",
    "    pos[neuron] = np.array([0,0])\n",
    "    \n",
    "    def draw_nodes(shape='o', category=inters, col='k'):\n",
    "        nx.draw_networkx_nodes(G, pos, node_shape=shape, node_color=col, \n",
    "                               nodelist=[n for n in nodes if n in category],\n",
    "                               node_size=2500, alpha=0.9)\n",
    "    draw_nodes(SENSOR_SHAPE, sensors, SENSOR_COLOR)\n",
    "    draw_nodes(INTER_SHAPE, inters, INTER_COLOR)\n",
    "    draw_nodes(MOTOR_SHAPE, motors, MOTOR_COLOR)\n",
    "\n",
    "    nx.draw_networkx_labels(G, pos, font_color='w', font_weight='bold')\n",
    "    style = ArrowStyle(\"wedge\", tail_width=2., shrink_factor=0.2)\n",
    "    styleg = ArrowStyle(\"wedge\", tail_width=0.6, shrink_factor=0.4)\n",
    "    nx.draw_networkx_edges(G, pos, arrowstyle=style, edgelist=syni, edge_color='g',\n",
    "                           arrowsize=10, alpha=0.7, width=intens_in)\n",
    "    nx.draw_networkx_edges(G, pos, arrowstyle=style, edgelist=syno, edge_color='r',\n",
    "                           arrowsize=10, alpha=0.5, width=intens_out)\n",
    "    nx.draw_networkx_edges(G, pos, arrowstyle=styleg, edgelist=gaps, edge_color='Gold',\n",
    "                           arrowsize=10, alpha=0.8, width=np.hstack((intens_g,intens_g)), style='dotted')\n",
    "    plt.axis('off')\n",
    "    plt.show()"
   ]
  },
  {
   "cell_type": "code",
   "execution_count": null,
   "metadata": {},
   "outputs": [],
   "source": []
  }
 ],
 "metadata": {
  "kernelspec": {
   "display_name": "Python 3",
   "language": "python",
   "name": "python3"
  },
  "language_info": {
   "codemirror_mode": {
    "name": "ipython",
    "version": 3
   },
   "file_extension": ".py",
   "mimetype": "text/x-python",
   "name": "python",
   "nbconvert_exporter": "python",
   "pygments_lexer": "ipython3",
   "version": "3.6.7"
  }
 },
 "nbformat": 4,
 "nbformat_minor": 2
}
